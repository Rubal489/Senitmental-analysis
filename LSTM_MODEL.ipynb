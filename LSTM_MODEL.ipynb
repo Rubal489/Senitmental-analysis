{
  "nbformat": 4,
  "nbformat_minor": 0,
  "metadata": {
    "colab": {
      "provenance": [],
      "gpuType": "T4"
    },
    "kernelspec": {
      "name": "python3",
      "display_name": "Python 3"
    },
    "language_info": {
      "name": "python"
    },
    "accelerator": "GPU"
  },
  "cells": [
    {
      "cell_type": "code",
      "execution_count": null,
      "metadata": {
        "id": "NRS9DqHPjuCp"
      },
      "outputs": [],
      "source": []
    },
    {
      "cell_type": "code",
      "source": [
        "import pandas as pd\n",
        "import numpy as np\n",
        "import nltk\n",
        "from nltk.stem import WordNetLemmatizer\n",
        "import matplotlib.pyplot as plt\n",
        "from copy import deepcopy"
      ],
      "metadata": {
        "id": "tNgK-CCskHGa"
      },
      "execution_count": null,
      "outputs": []
    },
    {
      "cell_type": "markdown",
      "source": [
        "Reading the Data"
      ],
      "metadata": {
        "id": "R60y8ddnCpye"
      }
    },
    {
      "cell_type": "code",
      "source": [
        "tweet = pd.read_csv(r\"/content/train_data.csv\")\n",
        "# tweet = tweet[:1000]"
      ],
      "metadata": {
        "id": "81Danek_ka88"
      },
      "execution_count": null,
      "outputs": []
    },
    {
      "cell_type": "code",
      "source": [
        "train_df = tweet\n",
        "train_df.head()"
      ],
      "metadata": {
        "id": "zvuCmIlak17k"
      },
      "execution_count": null,
      "outputs": []
    },
    {
      "cell_type": "markdown",
      "source": [
        "Downloading the text file for word vector"
      ],
      "metadata": {
        "id": "TX5nYK4mCtFt"
      }
    },
    {
      "cell_type": "code",
      "source": [
        "!wget http://downloads.cs.stanford.edu/nlp/data/glove.6B.zip"
      ],
      "metadata": {
        "id": "t4nNKRSBm1N2"
      },
      "execution_count": null,
      "outputs": []
    },
    {
      "cell_type": "code",
      "source": [
        "!unzip glove.6B.zip"
      ],
      "metadata": {
        "id": "I8exJGkvm4XS"
      },
      "execution_count": null,
      "outputs": []
    },
    {
      "cell_type": "markdown",
      "source": [
        "Funtion to copy the word vector from text file to a dictionary"
      ],
      "metadata": {
        "id": "_WaF50IxC9Ve"
      }
    },
    {
      "cell_type": "code",
      "source": [
        "words = dict()\n",
        "\n",
        "def add_to_dict(d, filename):\n",
        "  with open(filename, 'r') as f:\n",
        "    for line in f.readlines():\n",
        "      line = line.split(' ')\n",
        "\n",
        "      try:\n",
        "        d[line[0]] = np.array(line[1:], dtype=float)\n",
        "      except:\n",
        "        continue\n",
        "\n",
        "add_to_dict(words, 'glove.6B.50d.txt')\n",
        "len(words)"
      ],
      "metadata": {
        "id": "MKfSFmualFoZ"
      },
      "execution_count": null,
      "outputs": []
    },
    {
      "cell_type": "code",
      "source": [
        "nltk.download('wordnet')"
      ],
      "metadata": {
        "id": "Ozf8_dZcnwYC"
      },
      "execution_count": null,
      "outputs": []
    },
    {
      "cell_type": "markdown",
      "source": [
        "Funtion to convert tweets into word tokens"
      ],
      "metadata": {
        "id": "-CjsyL-oDIzg"
      }
    },
    {
      "cell_type": "code",
      "source": [
        "tokenizer = nltk.RegexpTokenizer(r\"\\w+\")\n",
        "lemmatizer = WordNetLemmatizer()\n",
        "\n",
        "def message_to_token_list(s):\n",
        "  tokens = tokenizer.tokenize(s)\n",
        "  lowercased_tokens = [t.lower() for t in tokens]\n",
        "  lemmatized_tokens = [lemmatizer.lemmatize(t) for t in lowercased_tokens]\n",
        "  useful_tokens = [t for t in lemmatized_tokens if t in words]\n",
        "\n",
        "  return useful_tokens"
      ],
      "metadata": {
        "id": "BW9PdO20oHWf"
      },
      "execution_count": null,
      "outputs": []
    },
    {
      "cell_type": "markdown",
      "source": [
        "Function to convert wrod tokens into word vectors using vector dictionary"
      ],
      "metadata": {
        "id": "zBgfUqqsDZsf"
      }
    },
    {
      "cell_type": "code",
      "source": [
        "def message_to_word_vectors(message, word_dict=words):\n",
        "  processed_list_of_tokens = message_to_token_list(message)\n",
        "\n",
        "  vectors = []\n",
        "\n",
        "  for token in processed_list_of_tokens:\n",
        "    if token not in word_dict:\n",
        "      continue\n",
        "\n",
        "    token_vector = word_dict[token]\n",
        "    vectors.append(token_vector)\n",
        "\n",
        "  return np.array(vectors, dtype=float)"
      ],
      "metadata": {
        "id": "4xrYBGpPoWZP"
      },
      "execution_count": null,
      "outputs": []
    },
    {
      "cell_type": "markdown",
      "source": [
        "Splitting the training data into 3 parts\n",
        "\n",
        "1.   Training data frame\n",
        "2.   Validation data frame\n",
        "3.   Test data frame"
      ],
      "metadata": {
        "id": "pCHrDqBPDkkG"
      }
    },
    {
      "cell_type": "code",
      "source": [
        "train_df = train_df.sample(frac=1, random_state=1)\n",
        "train_df.reset_index(drop=True, inplace=True)\n",
        "\n",
        "split_index_1 = int(len(train_df) * 0.6)\n",
        "split_index_2 = int(len(train_df) * 0.7)\n",
        "\n",
        "train_df, val_df, test_df = train_df[:split_index_1], train_df[split_index_1:split_index_2], train_df[split_index_2:]\n",
        "\n",
        "len(train_df), len(val_df), len(test_df)"
      ],
      "metadata": {
        "id": "sZ9KwdO8oZqb"
      },
      "execution_count": null,
      "outputs": []
    },
    {
      "cell_type": "code",
      "source": [
        "test_df"
      ],
      "metadata": {
        "id": "EuJI3VW9olkt"
      },
      "execution_count": null,
      "outputs": []
    },
    {
      "cell_type": "markdown",
      "source": [
        "Function to define the input/output data"
      ],
      "metadata": {
        "id": "1gNqHWDrFGIL"
      }
    },
    {
      "cell_type": "code",
      "source": [
        "def df_to_X_y(dff):\n",
        "  y = dff['label'].to_numpy().astype(int)\n",
        "\n",
        "  all_word_vector_sequences = []\n",
        "\n",
        "  for message in dff['tweet']:\n",
        "    message_as_vector_seq = message_to_word_vectors(message)\n",
        "\n",
        "    if message_as_vector_seq.shape[0] == 0:\n",
        "      message_as_vector_seq = np.zeros(shape=(1, 50))\n",
        "\n",
        "    all_word_vector_sequences.append(message_as_vector_seq)\n",
        "\n",
        "  return all_word_vector_sequences, y"
      ],
      "metadata": {
        "id": "kB6bNz_Ro8jJ"
      },
      "execution_count": null,
      "outputs": []
    },
    {
      "cell_type": "code",
      "source": [
        "X_train, y_train = df_to_X_y(train_df)\n",
        "\n",
        "print(len(X_train), len(X_train[10]))"
      ],
      "metadata": {
        "id": "ez578lyFpHci"
      },
      "execution_count": null,
      "outputs": []
    },
    {
      "cell_type": "markdown",
      "source": [
        "analysing the length of most tweet's useful tokens/vector"
      ],
      "metadata": {
        "id": "r7mi7SM2FQng"
      }
    },
    {
      "cell_type": "code",
      "source": [
        "sequence_lengths = []\n",
        "\n",
        "for i in range(len(X_train)):\n",
        "  sequence_lengths.append(len(X_train[i]))\n",
        "\n",
        "pd.Series(sequence_lengths).describe()"
      ],
      "metadata": {
        "id": "_Was5eb4pLTq"
      },
      "execution_count": null,
      "outputs": []
    },
    {
      "cell_type": "markdown",
      "source": [
        "Padding the word token/vector list to convert them into numpy array"
      ],
      "metadata": {
        "id": "NdYLTBi3FfaM"
      }
    },
    {
      "cell_type": "code",
      "source": [
        "def pad_X(X, desired_sequence_length=59):\n",
        "  X_copy = deepcopy(X)\n",
        "\n",
        "  for i, x in enumerate(X):\n",
        "    x_seq_len = x.shape[0]\n",
        "    sequence_length_difference = desired_sequence_length - x_seq_len\n",
        "\n",
        "    pad = np.zeros(shape=(sequence_length_difference, 50))\n",
        "\n",
        "    X_copy[i] = np.concatenate([x, pad])\n",
        "\n",
        "  return np.array(X_copy).astype(float)"
      ],
      "metadata": {
        "id": "zAPiKLZgpUh_"
      },
      "execution_count": null,
      "outputs": []
    },
    {
      "cell_type": "markdown",
      "source": [
        "padding the training data Frames"
      ],
      "metadata": {
        "id": "zh06m3wTF0TU"
      }
    },
    {
      "cell_type": "code",
      "source": [
        "X_train = pad_X(X_train)\n",
        "\n",
        "X_train.shape\n",
        "\n"
      ],
      "metadata": {
        "id": "sD0LIltRpbJg"
      },
      "execution_count": null,
      "outputs": []
    },
    {
      "cell_type": "markdown",
      "source": [
        "padding the validation data Frames"
      ],
      "metadata": {
        "id": "0GLvZQx6F4G1"
      }
    },
    {
      "cell_type": "code",
      "source": [
        "X_val, y_val = df_to_X_y(val_df)\n",
        "X_val = pad_X(X_val)\n",
        "\n",
        "X_val.shape, y_val.shape"
      ],
      "metadata": {
        "id": "exAnzCSbvoV8"
      },
      "execution_count": null,
      "outputs": []
    },
    {
      "cell_type": "markdown",
      "source": [
        "padding the test data Frames"
      ],
      "metadata": {
        "id": "zvF7hGJ5F809"
      }
    },
    {
      "cell_type": "code",
      "source": [
        "X_test, y_test = df_to_X_y(test_df)\n",
        "X_test = pad_X(X_test)\n",
        "\n",
        "X_test.shape, y_test.shape"
      ],
      "metadata": {
        "id": "dgWF5bc3FyNQ"
      },
      "execution_count": null,
      "outputs": []
    },
    {
      "cell_type": "markdown",
      "source": [
        "# **LSTM Model**"
      ],
      "metadata": {
        "id": "Fj_gPE7rvos5"
      }
    },
    {
      "cell_type": "markdown",
      "source": [
        "Defining the LSTM model"
      ],
      "metadata": {
        "id": "BFIrCLHFGAuZ"
      }
    },
    {
      "cell_type": "code",
      "source": [
        "from tensorflow.keras import layers\n",
        "from tensorflow.keras.models import Sequential\n",
        "from keras.layers import Embedding, LSTM, Dense, Dropout,Bidirectional,SimpleRNN\n",
        "\n",
        "lstm_model = Sequential([])\n",
        "\n",
        "lstm_model.add(layers.Input(shape=(59, 50)))\n",
        "lstm_model.add(LSTM(64, return_sequences=True))\n",
        "lstm_model.add(Dropout(0.2))\n",
        "lstm_model.add(LSTM(64, return_sequences=True))\n",
        "lstm_model.add(Dropout(0.2))\n",
        "lstm_model.add(LSTM(64, return_sequences=True))\n",
        "lstm_model.add(Dropout(0.2))\n",
        "lstm_model.add(layers.Flatten())\n",
        "lstm_model.add(Dense(1, activation='sigmoid'))"
      ],
      "metadata": {
        "id": "w2lfxYQCpjXv"
      },
      "execution_count": null,
      "outputs": []
    },
    {
      "cell_type": "markdown",
      "source": [
        "Compiling the LSTM model"
      ],
      "metadata": {
        "id": "67ShEXd9GHTN"
      }
    },
    {
      "cell_type": "code",
      "source": [
        "from tensorflow.keras.losses import BinaryCrossentropy\n",
        "from tensorflow.keras.optimizers import Adam\n",
        "from tensorflow.keras.metrics import AUC\n",
        "from tensorflow.keras.callbacks import ModelCheckpoint\n",
        "\n",
        "cp = ModelCheckpoint('model/', save_best_only=True)\n",
        "\n",
        "lstm_model.compile(optimizer=Adam(learning_rate=0.001),\n",
        "              loss=BinaryCrossentropy(),\n",
        "              metrics=['accuracy', AUC(name='auc')])"
      ],
      "metadata": {
        "id": "7AOE614kpsdl"
      },
      "execution_count": null,
      "outputs": []
    },
    {
      "cell_type": "markdown",
      "source": [
        "calculation for optimizing the model (as the dataset is not balanced)"
      ],
      "metadata": {
        "id": "9GssS2y-GMex"
      }
    },
    {
      "cell_type": "code",
      "source": [
        "frequencies = pd.value_counts(train_df['label'])\n",
        "\n",
        "frequencies"
      ],
      "metadata": {
        "id": "9PqA3n3cpvyh"
      },
      "execution_count": null,
      "outputs": []
    },
    {
      "cell_type": "code",
      "source": [
        "weights = {0: frequencies.sum() / frequencies[0], 1: frequencies.sum() / frequencies[1]}\n",
        "weights"
      ],
      "metadata": {
        "id": "bdNiz1T-pyJO"
      },
      "execution_count": null,
      "outputs": []
    },
    {
      "cell_type": "markdown",
      "source": [
        "Training the LSTM model"
      ],
      "metadata": {
        "id": "pPfR9gC5GWZM"
      }
    },
    {
      "cell_type": "code",
      "source": [
        "lstm_model.fit(X_train, y_train, validation_data=(X_val, y_val), epochs=10, callbacks=[cp], class_weight = weights)"
      ],
      "metadata": {
        "id": "g7FXgqyEp0FK"
      },
      "execution_count": null,
      "outputs": []
    },
    {
      "cell_type": "markdown",
      "source": [
        "Saving the best model"
      ],
      "metadata": {
        "id": "dOMseHeHGkh2"
      }
    },
    {
      "cell_type": "code",
      "source": [
        "from tensorflow.keras.models import load_model\n",
        "\n",
        "best_model = load_model('model/')"
      ],
      "metadata": {
        "id": "whqyzvhhp1pg"
      },
      "execution_count": null,
      "outputs": []
    },
    {
      "cell_type": "markdown",
      "source": [
        "Printing the trained model prediction report"
      ],
      "metadata": {
        "id": "dmbuGHR0GrHs"
      }
    },
    {
      "cell_type": "code",
      "source": [
        "test_predictions = (best_model.predict(X_test) > 0.5).astype(int)\n",
        "\n",
        "from sklearn.metrics import classification_report\n",
        "\n",
        "print(classification_report(y_test, test_predictions))"
      ],
      "metadata": {
        "id": "OmARwTGKp5Ch"
      },
      "execution_count": null,
      "outputs": []
    }
  ]
}